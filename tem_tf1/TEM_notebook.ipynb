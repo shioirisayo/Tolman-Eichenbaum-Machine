{
 "cells": [
  {
   "cell_type": "code",
   "execution_count": null,
   "metadata": {
    "collapsed": true
   },
   "outputs": [],
   "source": [
    "%load_ext autoreload\n",
    "%autoreload 2"
   ]
  },
  {
   "cell_type": "code",
   "execution_count": null,
   "metadata": {
    "collapsed": true
   },
   "outputs": [],
   "source": [
    "import numpy as np\n",
    "import matplotlib.pyplot as plt\n",
    "import seaborn\n",
    "import datetime\n",
    "import re\n",
    "from os import listdir\n",
    "import sys\n",
    "sys.path.insert(0, '../YOUR DIRECTORY OF MODEL FILES')\n",
    "from plotting_functions import *\n",
    "from arb_functions import *\n",
    "from helper_functions import *\n",
    "from behaviour_analyses import *\n",
    "from environment_functions import *\n",
    "\n",
    "save_dirs = ['YOUR DIRECTORY OF SAVED DATA']\n",
    "\n",
    "date = 'DATE OF SIMULATION'\n",
    "run = 'RUN NUMBER'\n",
    "\n",
    "recent = -1\n",
    "data, para, list_of_files, save_path = get_data(save_dirs, run, date, recent)\n",
    "\n",
    "A_RNN, g2g, x_all, g_all, p_all, p_gen_all, acc_s_t_to, acc_s_t_from, positions, shinys, adj, timeseries = data\n",
    "params, widths, batch_id, g_size, p_size, s_size, s_size_comp, n_freq, width, states = para\n",
    "\n",
    "mult = 4 if params['world_type'] == 'tonegawa' else 4  # upsample\n",
    "smoothing = 1\n",
    "cmap = 'jet'\n",
    "maxmin=True\n",
    "\n",
    "import seaborn\n",
    "seaborn.set_style(style='white')\n",
    "seaborn.set_style({'axes.spines.bottom': False,'axes.spines.left': False,'axes.spines.right': \\\n",
    "                   False,'axes.spines.top': False})\n",
    "\n",
    "shinys_, masks, g_lim, p_lim = sort_data(g_all, p_all, shinys, widths, mult, smoothing, params, batch_id, \\\n",
    "                                         g_max_0=False, p_max_0=True)"
   ]
  },
  {
   "cell_type": "code",
   "execution_count": null,
   "metadata": {
    "collapsed": true
   },
   "outputs": [],
   "source": [
    "for env in range(params['n_envs_save']):\n",
    "    print('env', env)\n",
    "    if shinys_[env] is not None:\n",
    "        for shiny in shinys_[env]:\n",
    "            try:\n",
    "                print('acc to ' + str(shiny), acc_s_t_to[env][shiny])\n",
    "                print('acc from ' + str(shiny), acc_s_t_from[env][shiny])\n",
    "            except IndexError:\n",
    "                pass"
   ]
  },
  {
   "cell_type": "code",
   "execution_count": null,
   "metadata": {
    "collapsed": true
   },
   "outputs": [],
   "source": [
    "for env in range(params['n_envs_save']):\n",
    "    num_correct = np.sum(acc_s_t_to[env] * positions[env])\n",
    "    proportion = num_correct / sum(positions[env])\n",
    "    approx_num = proportion * np.sum(positions[env] > 0.1)\n",
    "    print(env, '   Approx proportion : ', np.round(proportion, decimals=3), \\\n",
    "          '   Approx num : ', np.round(approx_num, decimals=2))"
   ]
  },
  {
   "cell_type": "code",
   "execution_count": null,
   "metadata": {
    "collapsed": true
   },
   "outputs": [],
   "source": [
    "env0 = 1\n",
    "env1 = 2"
   ]
  },
  {
   "cell_type": "code",
   "execution_count": null,
   "metadata": {
    "collapsed": true
   },
   "outputs": [],
   "source": [
    "# GRAPHS\n",
    "import networkx as nx\n",
    "try:\n",
    "    plt.figure(figsize=(10,5))\n",
    "    for i, env in enumerate([env0, env1]):\n",
    "        adj_ = remove_zero_adj(adj[env])\n",
    "        \n",
    "        plt.subplot(1,2,i + 1)\n",
    "        g = nx.from_numpy_matrix(adj_)\n",
    "        pos_nodes = nx.spring_layout(g, iterations=500)\n",
    "        nx.draw(g, pos=pos_nodes, node_size=50, with_labels=True)\n",
    "    \n",
    "    plt.show()\n",
    "except TypeError:\n",
    "    plt.close('all')\n",
    "    pass"
   ]
  },
  {
   "cell_type": "code",
   "execution_count": null,
   "metadata": {
    "collapsed": true
   },
   "outputs": [],
   "source": [
    "# AGENT COVERAGE"
   ]
  },
  {
   "cell_type": "code",
   "execution_count": null,
   "metadata": {
    "collapsed": true
   },
   "outputs": [],
   "source": [
    "plt.figure(figsize=(10,5))\n",
    "for i, env in enumerate([env0, env1]):\n",
    "    plt.subplot(1,2,i+1)\n",
    "    cell_reshaped = reshape_cells(positions[env], widths[batch_id[env]], params['world_type'])\n",
    "    plt.imshow(cell_reshaped)\n",
    "    plt.colorbar()\n",
    "\n",
    "plt.show()\n",
    "\n",
    "print(min(positions[env0]), min(positions[env1]))"
   ]
  },
  {
   "cell_type": "code",
   "execution_count": null,
   "metadata": {
    "collapsed": true
   },
   "outputs": [],
   "source": [
    "# where the agent didnt go much shown in black\n",
    "plt.figure(figsize=(10,5))\n",
    "\n",
    "for i, env in enumerate([env0, env1]):\n",
    "    a = positions[env] < 4\n",
    "    plt.subplot(1,2,i+1)\n",
    "    cell_reshaped = reshape_cells(a.astype(int), widths[batch_id[env]], params['world_type'])\n",
    "    plt.imshow(cell_reshaped)\n",
    "    plt.colorbar()    \n",
    "    \n",
    "plt.show()"
   ]
  },
  {
   "cell_type": "code",
   "execution_count": null,
   "metadata": {
    "collapsed": true
   },
   "outputs": [],
   "source": [
    "# ACCURACY MAPS - SENSORY"
   ]
  },
  {
   "cell_type": "code",
   "execution_count": null,
   "metadata": {
    "collapsed": true,
    "scrolled": false
   },
   "outputs": [],
   "source": [
    "plt.figure(figsize=(10,10))\n",
    "for i, env in enumerate([env0, env1]):\n",
    "    plt.subplot(2,2,i+1)\n",
    "    cell_reshaped = reshape_cells(acc_s_t_to[env], widths[batch_id[env]], params['world_type'])\n",
    "    plt.imshow(cell_reshaped,vmax=1,vmin=0)\n",
    "    plt.title('accuracy to')\n",
    "\n",
    "    plt.colorbar()\n",
    "    plt.subplot(2,2,i+3)\n",
    "    cell_reshaped = reshape_cells(acc_s_t_from[env], widths[batch_id[env]], params['world_type'])\n",
    "    plt.imshow(cell_reshaped,vmax=1,vmin=0)\n",
    "    plt.title('accuracy from')\n",
    "\n",
    "    plt.colorbar()\n",
    "\n",
    "plt.show()"
   ]
  },
  {
   "cell_type": "code",
   "execution_count": null,
   "metadata": {
    "collapsed": true,
    "scrolled": false
   },
   "outputs": [],
   "source": [
    "# ENTORHINAL CELLS \n",
    "square_plot(g_all[env0], widths[batch_id[env0]], name='g0', maxmin=maxmin, shiny=shinys_[env0], \\\n",
    "            hexy=params['world_type'], lims=g_lim, mult=mult, smoothing=smoothing, cmap=cmap, mask=masks[env0])"
   ]
  },
  {
   "cell_type": "code",
   "execution_count": null,
   "metadata": {
    "collapsed": true
   },
   "outputs": [],
   "source": [
    "square_plot(g_all[env1], widths[batch_id[env1]], name='g1', maxmin=maxmin, shiny=shinys_[env1], \\\n",
    "            hexy=params['world_type'], lims=g_lim, mult=mult, smoothing=smoothing, cmap=cmap, mask=masks[env1])"
   ]
  },
  {
   "cell_type": "code",
   "execution_count": null,
   "metadata": {
    "collapsed": true
   },
   "outputs": [],
   "source": [
    "# ENTORHINAL AUTOCORRELATIONS"
   ]
  },
  {
   "cell_type": "code",
   "execution_count": null,
   "metadata": {
    "collapsed": true,
    "scrolled": false
   },
   "outputs": [],
   "source": [
    "square_autocorr_plot(g_all[env0], widths[batch_id[env0]], name='g0_auto', \\\n",
    "                     hexy=params['world_type'], mult=mult, smoothing=smoothing, cmap=cmap, circle=True)"
   ]
  },
  {
   "cell_type": "code",
   "execution_count": null,
   "metadata": {
    "collapsed": true
   },
   "outputs": [],
   "source": [
    "square_autocorr_plot(g_all[env1], widths[batch_id[env1]], name='g1_auto', \\\n",
    "                     hexy=params['world_type'], mult=mult, smoothing=smoothing, cmap=cmap, circle=True)"
   ]
  },
  {
   "cell_type": "code",
   "execution_count": null,
   "metadata": {
    "collapsed": true
   },
   "outputs": [],
   "source": [
    "# HIPPOCAMPAL CELLS"
   ]
  },
  {
   "cell_type": "code",
   "execution_count": null,
   "metadata": {
    "collapsed": true
   },
   "outputs": [],
   "source": [
    "square_plot(p_all[env0],widths[batch_id[env0]], name='p0', shiny=shinys_[env0],\\\n",
    "            hexy=params['world_type'], lims=p_lim, mult=mult, smoothing=smoothing, cmap=cmap, mask=masks[env0])"
   ]
  },
  {
   "cell_type": "code",
   "execution_count": null,
   "metadata": {
    "collapsed": true
   },
   "outputs": [],
   "source": [
    "square_plot(p_all[env1],widths[batch_id[env1]], name='p1', shiny=shinys_[env1], \\\n",
    "            hexy=params['world_type'], lims=p_lim, mult=mult, smoothing=smoothing, cmap=cmap, mask=masks[env1])"
   ]
  },
  {
   "cell_type": "code",
   "execution_count": null,
   "metadata": {
    "collapsed": true
   },
   "outputs": [],
   "source": []
  },
  {
   "cell_type": "code",
   "execution_count": null,
   "metadata": {
    "collapsed": true
   },
   "outputs": [],
   "source": [
    "\"\"\"\n",
    "BEHAVIOURAL ANALYSES\n",
    "\"\"\"\n",
    "\n",
    "seaborn.set_style(style='white')\n",
    "\n",
    "params['acc_simu'] = 1  # how accurate simulated node/edge agent is\n",
    "recent = -1  # how far back into history of saved data\n",
    "filt_size = 61  # smoothing window size (must be odd)\n",
    "n = 10\n",
    "fracs = [x /n for x in range(n+2)]  # for assessing accuracy within certain proportions of nodes visited\n",
    "\n",
    "# for steps since visted analysis - assess accuracy within those steps\n",
    "if params['world_type'] in ['family_tree', 'line_ti', 'tonegawa']:\n",
    "    a_s = [0, 10, 20]\n",
    "else:\n",
    "    a_s = [0, 4, 10, 20, 40, 60, 100, 200, 300, 400, 600]\n",
    "\n",
    "# Load data\n",
    "positions_link, coos, env_info, distance_info = link_inferences(save_path, list_of_files, widths, batch_id, params,\\\n",
    "                                                                index=recent)\n",
    "n_states, wids, n_available_states, n_available_edges = env_info\n",
    "\n",
    "# Perform behavioural analayses. Partition results into environments of same size\n",
    "allowed_widths = sorted(np.unique([widths[b_id] for b_id in batch_id]))\n",
    "results = []\n",
    "for allowed_wid in allowed_widths:\n",
    "    p_cors, nodes_visited_all, edges_visited_all, time_vis_anal = \\\n",
    "        analyse_link_inference(allowed_wid, fracs, a_s, positions_link, coos, env_info, params)\n",
    "    p_cors = [ind for ind in p_cors if len(ind)>0]\n",
    "    results.append([p_cors, nodes_visited_all, edges_visited_all, time_vis_anal])"
   ]
  },
  {
   "cell_type": "code",
   "execution_count": null,
   "metadata": {
    "collapsed": true
   },
   "outputs": [],
   "source": [
    "# inferernce of untraversed link as a function proportion on nodes seen\n",
    "plot_link_inference(results, allowed_widths, fracs, s_size)"
   ]
  },
  {
   "cell_type": "code",
   "execution_count": null,
   "metadata": {
    "collapsed": true
   },
   "outputs": [],
   "source": [
    "# simulation of node and edge agent\n",
    "plot_sim_corrects(results, allowed_widths, filt_size, wids, n_available_states, n_available_edges, params)"
   ]
  },
  {
   "cell_type": "code",
   "execution_count": null,
   "metadata": {
    "collapsed": true
   },
   "outputs": [],
   "source": [
    "# tem accuracy for each environment size\n",
    "plot_acc_vs_sum_nodes_edges(results, allowed_widths, coos, filt_size, wids, n_available_states, n_available_edges)"
   ]
  },
  {
   "cell_type": "code",
   "execution_count": null,
   "metadata": {
    "collapsed": true
   },
   "outputs": [],
   "source": [
    "# prediction accuracy after # steps since last time visited that node\n",
    "plot_acc_vs_steps_since_visited(results, allowed_widths, a_s, s_size)"
   ]
  },
  {
   "cell_type": "code",
   "execution_count": null,
   "metadata": {
    "collapsed": true
   },
   "outputs": [],
   "source": []
  },
  {
   "cell_type": "code",
   "execution_count": null,
   "metadata": {
    "collapsed": true,
    "scrolled": true
   },
   "outputs": [],
   "source": [
    "# HARLOW LIKE LEARNING CURVES\n",
    "\n",
    "results_mega = []\n",
    "coos_mega = []\n",
    "allowed_widths = [9]\n",
    "allowed_recents = [[1,2], [7, 8, 9] , [11, 12, 13, 14], [18, 19,20, 21], [-1]]  # for family_tree\n",
    "\n",
    "#[[1,2], [7, 8, 9] , [11, 12, 13, 14], [18, 19,20, 21], [-3,-2,-1]]  # for family_tree\n",
    "#[[1,2], [5, 6, 7, 8] , [9, 10, 11, 12, 13, 14], [50, 55, 60, 70], [-3,-2,-1]]  # for tran_inf\n",
    "\n",
    "for hyper_recent in allowed_recents:\n",
    "    results_ = []\n",
    "    for recent in hyper_recent:\n",
    "\n",
    "        positions_link, coos, env_info, distance_info = link_inferences(save_path, list_of_files, widths, batch_id, \\\n",
    "                                                                        params, index=recent)\n",
    "\n",
    "        n_states, wids, n_available_states, n_available_edges = env_info\n",
    "\n",
    "        #results_ = []\n",
    "        for allowed_wid in allowed_widths:\n",
    "            nodes_visited_all, edges_visited_all, n_visited_means = [], [], []\n",
    "            for i in range(params['batch_size']):\n",
    "                if wids[i] == allowed_wid:\n",
    "                    params['states'] = n_states[i]\n",
    "                    params['n_available_states'] = n_available_states[i]\n",
    "                    params['edges'] = n_available_edges[i]\n",
    "\n",
    "                    node_visited, edge_visited, nodes, edges, num_visited, edge_stay_still = \\\n",
    "                        check_visited(positions_link[i].astype(int), params)\n",
    "                    # all new links, but visited nodes!\n",
    "                    n_visited_means.append(n_visited_correct(coos[i], num_visited, edge_visited))\n",
    "\n",
    "            results_.append([n_visited_means])\n",
    "    results_mega.append(results_)\n",
    "    coos_mega.append(coos)\n"
   ]
  },
  {
   "cell_type": "code",
   "execution_count": null,
   "metadata": {
    "collapsed": true
   },
   "outputs": [],
   "source": [
    "f = plt.figure()\n",
    "\n",
    "n_visits_lim = 20\n",
    "\n",
    "smallest_min = 10000\n",
    "for i, recent in enumerate(allowed_recents):    \n",
    "    for res, wid in zip(results_mega[i], allowed_widths):\n",
    "        pc = res[0]\n",
    "        pc, smallest = sort_out_summin(pc)\n",
    "        smallest_min = np.minimum(smallest, smallest_min)\n",
    "    \n",
    "        mean_pc = np.nanmean(pc, 0)\n",
    "        std_pc = sp.stats.sem(pc, 0, nan_policy='omit')\n",
    "        plt.plot(mean_pc)\n",
    "        plt.fill_between(np.arange(smallest), mean_pc + std_pc, mean_pc - std_pc,\n",
    "                         alpha=0.2, label=str(recent))\n",
    "\n",
    "smallest_min = np.minimum(smallest_min, n_visits_lim)\n",
    "plt.plot((0, smallest_min-1), (1/s_size, 1/s_size), 'k--', linewidth=linewidth)\n",
    "plt.xlim(0, smallest_min-1)\n",
    "plt.ylim(0, 1.1)\n",
    "plt.tick_params(axis='both', which='major', labelsize=labelsize)\n",
    "plt.tick_params(axis='both', which='minor', labelsize=labelsize)\n",
    "plt.xlabel('# times node visited', fontsize=fontsize)\n",
    "plt.ylabel('Correct inference of link', fontsize=fontsize)\n",
    "plt.legend()\n",
    "plt.show()"
   ]
  },
  {
   "cell_type": "code",
   "execution_count": null,
   "metadata": {
    "collapsed": true
   },
   "outputs": [],
   "source": []
  }
 ],
 "metadata": {
  "kernelspec": {
   "display_name": "Python 3",
   "language": "python",
   "name": "python3"
  },
  "language_info": {
   "codemirror_mode": {
    "name": "ipython",
    "version": 3
   },
   "file_extension": ".py",
   "mimetype": "text/x-python",
   "name": "python",
   "nbconvert_exporter": "python",
   "pygments_lexer": "ipython3",
   "version": "3.6.1"
  }
 },
 "nbformat": 4,
 "nbformat_minor": 2
}
