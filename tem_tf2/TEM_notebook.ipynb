{
 "cells": [
  {
   "cell_type": "code",
   "execution_count": null,
   "outputs": [],
   "source": [
    "%load_ext autoreload\n",
    "%autoreload 2\n",
    "%matplotlib inline\n",
    "\n",
    "import numpy as np\n",
    "import matplotlib.pyplot as plt\n",
    "import seaborn\n",
    "import datetime\n",
    "import re\n",
    "from os import listdir\n",
    "import sys\n",
    "import copy as cp\n",
    "sys.path.insert(0, '../model_tf2')\n",
    "import parameters\n",
    "import plotting_functions as pf\n",
    "import data_utils as du\n",
    "import model_utils as mu\n",
    "import behaviour_analyses as ba\n",
    "\n",
    "# ADD YOUR DIRECTORIES HERE\n",
    "\n",
    "path = 'YOUR_PATH_HERE'\n",
    "save_dirs = [path]\n",
    "\n",
    "# Choose which training run data to load\n",
    "date = '2021-08-11'\n",
    "run = '1'\n",
    "index_load = None\n",
    "\n",
    "# Try to find the most recent trained model data to run a forward pass\n",
    "recent = -1\n",
    "time_series_smoothing = 0\n",
    "try:\n",
    "    # Find model path and iteration index\n",
    "    save_dir, index = pf.get_model_path(run, date, save_dirs, recent)\n",
    "    # Run forward path for retrieved model, if folder doesn't exist yet\n",
    "    model = ba.save_trained_outputs(date, run, int(index), base_path=save_dir, force_overwrite=False, n_envs_save=16)\n",
    "except FileNotFoundError:\n",
    "    print('No trained model weights found for ' + date + ', run ' + run + '.')\n",
    "    \n",
    "# Load data, generated either during training or in a forward pass through a trained model\n",
    "data, para, list_of_files, save_path, env_dict = pf.get_data(save_dirs, run, date, recent, index=index, smoothing=time_series_smoothing, n_envs_save=16)\n",
    "\n",
    "# Unpack data\n",
    "x_all = data.x\n",
    "g_all = data.g\n",
    "p_all = data.p\n",
    "acc_s_t_to = data.acc_to\n",
    "acc_s_t_from = data.acc_from\n",
    "positions = data.positions\n",
    "adj = data.adj\n",
    "x_timeseries = data.x_timeseries\n",
    "x_gt_timeseries = data.x_gt_timeseries\n",
    "p_timeseries = data.p_timeseries\n",
    "g_timeseries = data.g_timeseries\n",
    "pos_timeseries = data.pos_timeseries\n",
    "final_variables = data.final_variables\n",
    "# Group timeseries together for backward compatibility\n",
    "timeseries = (g_timeseries, p_timeseries, pos_timeseries)\n",
    "# Assign parameters\n",
    "params, widths, n_states = para\n",
    "\n",
    "# Specify plotting parameters. Some fields will be added after loading data & parameters\n",
    "plot_specs = mu.DotDict({'smoothing': 0, # spatial ratemap smoothing. Needs to be odd, or 0 for no smoothing\n",
    "                      'maxmin': True,\n",
    "                      'cmap': 'jet',\n",
    "                      'show': True,\n",
    "                      'circle': True,\n",
    "                      'g_max_0': False,\n",
    "                      'p_max_0': True,\n",
    "                      'save': False,\n",
    "                      'split_freqs': True,\n",
    "                      'mult': 4,\n",
    "                      'cell_num': True,\n",
    "                      'rectangle': {'marker_size': 20,\n",
    "                                  'marker_shape': 's'},\n",
    "                      'hexagonal': {'marker_size': 150,\n",
    "                                  'marker_shape': 'H'},\n",
    "                      'family_tree': {'marker_size': 20,\n",
    "                                  'marker_shape': 'h'},\n",
    "                      'line_ti': {'marker_size': 20,\n",
    "                                  'marker_shape': 's'},\n",
    "                      'wood2000': {'marker_size': 150,\n",
    "                                  'marker_shape': 's',\n",
    "                                  'plot_all': False,},\n",
    "                      'frank2000': {'marker_size': 150,\n",
    "                                  'marker_shape': 's',\n",
    "                                  'plot_all': False,},\n",
    "                      'grieves2016': {'marker_size': 50,\n",
    "                                  'marker_shape': 'H',\n",
    "                                  'plot_all': False,},\n",
    "                      'sun2020': {'marker_size': 50,\n",
    "                                  'marker_shape': 's'},\n",
    "                      'nieh2021': {'marker_size': 50,\n",
    "                                  'marker_shape': 's',\n",
    "                                  'plot_all': False,\n",
    "                                  'smooth': True,\n",
    "                                  'surface': True,},\n",
    "                     })\n",
    "\n",
    "import seaborn\n",
    "seaborn.set_style(style='white')\n",
    "seaborn.set_style({'axes.spines.bottom': False,'axes.spines.left': False,'axes.spines.right': \\\n",
    "                   False,'axes.spines.top': False})\n",
    "\n",
    "masks, g_lim, p_lim = pf.sort_data(g_all, p_all, widths, plot_specs)"
   ],
   "metadata": {
    "collapsed": false,
    "pycharm": {
     "name": "#%%\n"
    }
   }
  },
  {
   "cell_type": "code",
   "execution_count": null,
   "outputs": [],
   "source": [
    "masks = [(np.sum(g,1) + np.sum(p,1) != 0).tolist() for g,p in zip(g_all, p_all)]\n",
    "trainalbe_variables = model.trainable_weights"
   ],
   "metadata": {
    "collapsed": false,
    "pycharm": {
     "name": "#%%\n"
    }
   }
  },
  {
   "cell_type": "code",
   "execution_count": null,
   "outputs": [],
   "source": [
    "for env in range(params.n_envs_save):\n",
    "    num_correct = np.sum(acc_s_t_to[env] * positions[env])\n",
    "    proportion = num_correct / sum(positions[env])\n",
    "    approx_num = proportion * n_states[env]\n",
    "    print(env, '  Num_states : ', n_states[env], '   Approx proportion : ', np.round(proportion, decimals=3), \\\n",
    "          '   Approx num : ', np.round(approx_num, decimals=0))"
   ],
   "metadata": {
    "collapsed": false,
    "pycharm": {
     "name": "#%%\n"
    }
   }
  },
  {
   "cell_type": "code",
   "execution_count": null,
   "outputs": [],
   "source": [
    "env0 = 2\n",
    "env1 = 3\n",
    "envs = [env0, env1]"
   ],
   "metadata": {
    "collapsed": false,
    "pycharm": {
     "name": "#%%\n"
    }
   }
  },
  {
   "cell_type": "markdown",
   "source": [
    "## GRAPHS"
   ],
   "metadata": {
    "collapsed": false,
    "pycharm": {
     "name": "#%% md\n"
    }
   }
  },
  {
   "cell_type": "code",
   "execution_count": null,
   "outputs": [],
   "source": [
    "env_ = env_dict.curric_env.envs[0]\n",
    "env_.world()\n",
    "# plot different transitions in different colours\n",
    "for i in range(env_.adj.shape[0]):\n",
    "    for j in range(env_.adj.shape[1]):\n",
    "        if env_.adj[i,j] != 0:\n",
    "            ri, rt = env_.relation(i,j)\n",
    "            env_.adj[i,j] = ri + 1\n",
    "plt.imshow(env_.adj)\n",
    "w,v = np.linalg.eig(env_.adj)"
   ],
   "metadata": {
    "collapsed": false,
    "pycharm": {
     "name": "#%%\n"
    }
   }
  },
  {
   "cell_type": "code",
   "execution_count": null,
   "outputs": [],
   "source": [
    "import networkx as nx\n",
    "try:\n",
    "    plt.figure(figsize=(10,5))\n",
    "    for i, env in enumerate([env0, env1]):\n",
    "        adj_ = pf.remove_zero_adj(adj[env])\n",
    "        \n",
    "        plt.subplot(1,2,i + 1)\n",
    "        g = nx.from_numpy_matrix(adj_,create_using=nx.DiGraph)\n",
    "        pos_nodes = nx.spring_layout(g, iterations=500)\n",
    "        nx.draw(g, pos=pos_nodes, node_size=50, with_labels=True)\n",
    "    \n",
    "    plt.show()\n",
    "except TypeError:\n",
    "    plt.close('all')\n",
    "    pass"
   ],
   "metadata": {
    "collapsed": false,
    "pycharm": {
     "name": "#%%\n"
    }
   }
  },
  {
   "cell_type": "markdown",
   "source": [
    "## AGENT COVERAGE"
   ],
   "metadata": {
    "collapsed": false,
    "pycharm": {
     "name": "#%% md\n"
    }
   }
  },
  {
   "cell_type": "code",
   "execution_count": null,
   "outputs": [],
   "source": [
    "plot_specs.cmap = 'copper'\n",
    "\n",
    "try:\n",
    "    s = plot_specs[parameters.old2new(params.world_type)].marker_size\n",
    "    marker = plot_specs[parameters.old2new(params.world_type)].marker_shape\n",
    "except:\n",
    "    print('exceptiom')\n",
    "    s, marker = 10, 'H'\n",
    "#xs, ys = get_node_positions(env, params, plot_specs=plot_specs)\n",
    "figsize = (16,8)\n",
    "\n",
    "plt.figure(figsize=figsize) \n",
    "for i, env in enumerate([env0, env1]):\n",
    "    plt.subplot(1,2,i+1)\n",
    "    pos, bins = np.histogram(pos_timeseries[env], bins=np.arange(n_states[env]+1))\n",
    "    xs, ys, cell_prepared = env_dict.curric_env.envs[env].get_node_positions(cells=pos, _plot_specs=plot_specs)\n",
    "    plt.scatter(xs, ys, c=cell_prepared, s=s, marker=marker, vmin=0, cmap=plot_specs.cmap)\n",
    "    plt.xlim(xmin=min(xs)-1, xmax=max(xs)+1)\n",
    "    plt.ylim(ymin=min(ys)-1, ymax=max(ys)+1)\n",
    "    plt.gca().set_aspect('equal', adjustable='box')\n",
    "    plt.colorbar()\n",
    "\n",
    "plt.show()\n",
    "\n",
    "print(min(positions[env0]), min(positions[env1]))"
   ],
   "metadata": {
    "collapsed": false,
    "pycharm": {
     "name": "#%%\n"
    }
   }
  },
  {
   "cell_type": "code",
   "execution_count": null,
   "outputs": [],
   "source": [
    "# where the agent didnt go much shown in black\n",
    "figsize= (8 * len(envs), 8)\n",
    "\n",
    "plt.figure(figsize=figsize)\n",
    "\n",
    "for i, env in enumerate([env0, env1]):\n",
    "    pos, bins = np.histogram(pos_timeseries[env], bins=np.arange(n_states[env]+1))\n",
    "    a = pos > 5\n",
    "    plt.subplot(1,2,i+1)\n",
    "    xs, ys, cell_prepared = env_dict.curric_env.envs[env].get_node_positions(cells=a.astype(float), _plot_specs=plot_specs)\n",
    "    plt.scatter(xs, ys, c=cell_prepared, s=s, marker=marker, vmin=0, cmap=plot_specs.cmap)\n",
    "    plt.xlim(xmin=min(xs)-1, xmax=max(xs)+1)\n",
    "    plt.ylim(ymin=min(ys)-1, ymax=max(ys)+1)\n",
    "    plt.gca().set_aspect('equal', adjustable='box')\n",
    "    plt.colorbar()    \n",
    "    \n",
    "plt.show()"
   ],
   "metadata": {
    "collapsed": false,
    "pycharm": {
     "name": "#%%\n"
    }
   }
  },
  {
   "cell_type": "markdown",
   "source": [
    "## ACCURACY MAPS"
   ],
   "metadata": {
    "collapsed": false,
    "pycharm": {
     "name": "#%% md\n"
    }
   }
  },
  {
   "cell_type": "code",
   "execution_count": null,
   "outputs": [],
   "source": [
    "figsize= (8 * len(envs), 16)\n",
    "\n",
    "plt.figure(figsize=figsize)        \n",
    "for i, env in enumerate([env0, env1]):\n",
    "    plt.subplot(3,2,2*i+1)    \n",
    "    xs, ys, cell_prepared = env_dict.curric_env.envs[env].get_node_positions(cells=acc_s_t_to[env], _plot_specs=plot_specs)\n",
    "    plt.scatter(xs, ys, c=cell_prepared, cmap=plot_specs.cmap, s=s, marker=marker, vmin=0, vmax=1)\n",
    "    plt.xlim(xmin=min(xs)-1, xmax=max(xs)+1)\n",
    "    plt.ylim(ymin=min(ys)-1, ymax=max(ys)+1)\n",
    "    plt.gca().set_aspect('equal', adjustable='box')\n",
    "    plt.colorbar()\n",
    "    plt.title('accuracy to : env ' + str(env))\n",
    "    \n",
    "    plt.subplot(3,2,2*i+2)\n",
    "    xs, ys, cell_prepared = env_dict.curric_env.envs[env].get_node_positions(cells=acc_s_t_from[env], _plot_specs=plot_specs)\n",
    "    plt.scatter(xs, ys, c=cell_prepared, cmap=plot_specs.cmap, s=s, marker=marker, vmin=0, vmax=1)\n",
    "    plt.xlim(xmin=min(xs)-1, xmax=max(xs)+1)\n",
    "    plt.ylim(ymin=min(ys)-1, ymax=max(ys)+1)\n",
    "    plt.gca().set_aspect('equal', adjustable='box')\n",
    "    plt.colorbar()\n",
    "    plt.title('accuracy from : env ' + str(env))\n",
    "    \n",
    "    \n",
    "\n",
    "# average across envs - should do this properly with position counts\n",
    "env = 0\n",
    "# find other envs of same size\n",
    "accs_to = [acc_to for i, acc_to in enumerate(acc_s_t_to) if n_states[i] == n_states[env]]\n",
    "accs_from = [acc_from for i, acc_from in enumerate(acc_s_t_from) if n_states[i] == n_states[env]]\n",
    "\n",
    "plt.subplot(3,2,5)\n",
    "xs, ys, cell_prepared = env_dict.curric_env.envs[env].get_node_positions(cells=np.mean(accs_to, axis=0), _plot_specs=plot_specs)\n",
    "plt.scatter(xs, ys, c=cell_prepared, cmap=plot_specs.cmap, s=s, marker=marker, vmin=0, vmax=1)\n",
    "plt.xlim(xmin=min(xs)-1, xmax=max(xs)+1)\n",
    "plt.ylim(ymin=min(ys)-1, ymax=max(ys)+1)\n",
    "plt.gca().set_aspect('equal', adjustable='box')\n",
    "plt.colorbar()\n",
    "plt.title('accuracy to - averaged over all envs')\n",
    "plt.gca().set_aspect('equal', adjustable='box')\n",
    "\n",
    "plt.subplot(3,2,6)\n",
    "xs, ys, cell_prepared = env_dict.curric_env.envs[env].get_node_positions(cells=np.mean(accs_from, axis=0), _plot_specs=plot_specs)\n",
    "plt.scatter(xs, ys, c=cell_prepared, cmap=plot_specs.cmap, s=s, marker=marker, vmin=0, vmax=1)\n",
    "plt.xlim(xmin=min(xs)-1, xmax=max(xs)+1)\n",
    "plt.ylim(ymin=min(ys)-1, ymax=max(ys)+1)\n",
    "plt.gca().set_aspect('equal', adjustable='box')\n",
    "plt.colorbar()\n",
    "plt.title('accuracy from - averaged over all envs')\n",
    "plt.gca().set_aspect('equal', adjustable='box')\n",
    "plt.show()"
   ],
   "metadata": {
    "collapsed": false,
    "pycharm": {
     "name": "#%%\n"
    }
   }
  },
  {
   "cell_type": "markdown",
   "source": [
    "## ENTORHINAL CELLS"
   ],
   "metadata": {
    "collapsed": false,
    "pycharm": {
     "name": "#%% md\n"
    }
   }
  },
  {
   "cell_type": "code",
   "execution_count": null,
   "outputs": [],
   "source": [
    "plot_specs.split_freqs = True\n",
    "plot_specs.n_cells_freq = params.n_grids_all\n",
    "plot_specs.cmap = 'jet'\n",
    "plot_specs.node_plot = True\n",
    "plot_specs.max_min = False"
   ],
   "metadata": {
    "collapsed": false,
    "pycharm": {
     "name": "#%%\n"
    }
   }
  },
  {
   "cell_type": "code",
   "execution_count": null,
   "outputs": [],
   "source": [
    "pf.square_plot(g_all, env0, params, plot_specs, name='g0', lims=g_lim, mask=masks[env0], env_class=env_dict.curric_env.envs[env0])"
   ],
   "metadata": {
    "collapsed": false,
    "pycharm": {
     "name": "#%%\n"
    }
   }
  },
  {
   "cell_type": "code",
   "execution_count": null,
   "outputs": [],
   "source": [
    "pf.square_plot(g_all, env1, params, plot_specs, name='g1', lims=g_lim, mask=masks[env1], env_class=env_dict.curric_env.envs[env1])"
   ],
   "metadata": {
    "collapsed": false,
    "pycharm": {
     "name": "#%%\n"
    }
   }
  },
  {
   "cell_type": "code",
   "execution_count": null,
   "metadata": {
    "collapsed": false,
    "jupyter": {
     "outputs_hidden": false
    },
    "pycharm": {
     "name": "#%%\n"
    }
   },
   "outputs": [],
   "source": []
  }
 ],
 "metadata": {
  "kernelspec": {
   "display_name": "Python 3",
   "language": "python",
   "name": "python3"
  },
  "language_info": {
   "codemirror_mode": {
    "name": "ipython",
    "version": 3
   },
   "file_extension": ".py",
   "mimetype": "text/x-python",
   "name": "python",
   "nbconvert_exporter": "python",
   "pygments_lexer": "ipython3",
   "version": "3.7.9"
  }
 },
 "nbformat": 4,
 "nbformat_minor": 4
}